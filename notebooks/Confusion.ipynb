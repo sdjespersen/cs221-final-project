{
 "cells": [
  {
   "cell_type": "code",
   "execution_count": null,
   "metadata": {},
   "outputs": [],
   "source": [
    "import keras\n",
    "import matplotlib.pyplot as plt\n",
    "import numpy as np\n",
    "import pandas as pd\n",
    "import seaborn as sns\n",
    "import breakdown\n",
    "import preprocess\n",
    "\n",
    "from matplotlib import colors\n",
    "from sklearn.metrics import confusion_matrix\n",
    "\n",
    "def confusion_matrix_dataframe(Y_true, Y_pred):\n",
    "  cm = confusion_matrix(np.argmax(Y_true.values, axis=1), np.argmax(Y_pred, axis=1))\n",
    "  return pd.DataFrame(cm, columns=Y_true.columns, index=Y_true.columns)\n",
    "\n",
    "def plot_confusion_matrix(cmdf, cmap='rocket'):\n",
    "  ax = sns.heatmap(data=cmdf, annot=True, fmt='d', square=True, norm=colors.PowerNorm(gamma=2/5), cmap=cmap)\n",
    "  ax.set_xlabel('Predicted label')\n",
    "  ax.set_ylabel('True label')\n",
    "  return ax"
   ]
  },
  {
   "cell_type": "code",
   "execution_count": null,
   "metadata": {},
   "outputs": [],
   "source": [
    "FILE = '../../finalproject/wildfires-shuffled.parquet'\n",
    "(X_train, Y_train), (X_test, Y_test) = preprocess.load_dataset(FILE)"
   ]
  },
  {
   "cell_type": "markdown",
   "metadata": {},
   "source": [
    "## Confusion matrices"
   ]
  },
  {
   "cell_type": "code",
   "execution_count": null,
   "metadata": {},
   "outputs": [],
   "source": [
    "model = keras.models.load_model('../models/mlp-4x512-with-bnorm.h5')"
   ]
  },
  {
   "cell_type": "code",
   "execution_count": null,
   "metadata": {},
   "outputs": [],
   "source": [
    "Y_pred = model.predict(X_test)"
   ]
  },
  {
   "cell_type": "code",
   "execution_count": null,
   "metadata": {},
   "outputs": [],
   "source": [
    "cmdf = confusion_matrix_dataframe(Y_test, Y_pred)\n",
    "plot_confusion_matrix(cmdf).figure.savefig('mlp_confusion_mtx.pdf', bbox_inches='tight')"
   ]
  },
  {
   "cell_type": "code",
   "execution_count": null,
   "metadata": {},
   "outputs": [],
   "source": [
    "# copy-pasted from Jerry\n",
    "logreg_labels = '''\n",
    "Lightning\n",
    "Equipment Use\n",
    "Smoking\n",
    "Campfire\n",
    "Debris Burning\n",
    "Railroad\n",
    "Arson\n",
    "Children\n",
    "Fireworks\n",
    "Powerline\n",
    "Structure\n",
    "'''.strip().split(\"\\n\")\n",
    "logreg_cm = np.array([\n",
    "  [21160, 2, 0, 0, 6370, 0, 148, 0, 0, 0, 0],\n",
    "  [5566, 1, 0, 0, 9066, 0, 49, 0, 0, 0, 0],\n",
    "  [1499, 1, 0, 0, 3693, 0, 26, 0, 0, 0, 0],\n",
    "  [4369, 0, 0, 0, 3276, 0, 31, 0, 0, 0, 0],\n",
    "  [4517, 0, 0, 0, 38444, 0, 68, 0, 0, 0, 0],\n",
    "  [364, 0, 0, 0, 2961, 0, 9, 0, 0, 0, 0],\n",
    "  [3488, 0, 0, 0, 24430, 0,  174, 0, 0, 0, 0],\n",
    "  [1579, 0, 0, 0, 4473, 0, 28, 0, 0, 0, 0],\n",
    "  [492, 0, 0, 0, 564, 0, 1, 0, 0, 0, 0],\n",
    "  [377, 0, 0, 0, 1056, 0, 7, 0, 0, 0, 0],\n",
    "  [121, 0, 0, 0, 256, 0, 0, 0, 0, 0, 0],\n",
    "])\n",
    "logreg_cmdf = pd.DataFrame(logreg_cm, columns=logreg_labels, index=logreg_labels)\n",
    "plot_confusion_matrix(logreg_cmdf).figure.savefig('logreg_confusion_mtx.pdf', bbox_inches='tight')"
   ]
  }
 ],
 "metadata": {
  "kernelspec": {
   "display_name": "Python 3",
   "language": "python",
   "name": "python3"
  },
  "language_info": {
   "codemirror_mode": {
    "name": "ipython",
    "version": 3
   },
   "file_extension": ".py",
   "mimetype": "text/x-python",
   "name": "python",
   "nbconvert_exporter": "python",
   "pygments_lexer": "ipython3",
   "version": "3.6.8"
  }
 },
 "nbformat": 4,
 "nbformat_minor": 2
}
