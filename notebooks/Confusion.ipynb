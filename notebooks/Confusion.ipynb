{
 "cells": [
  {
   "cell_type": "code",
   "execution_count": null,
   "metadata": {},
   "outputs": [],
   "source": [
    "import keras\n",
    "import matplotlib.pyplot as plt\n",
    "import numpy as np\n",
    "import pandas as pd\n",
    "import seaborn as sns\n",
    "import breakdown\n",
    "import preprocess\n",
    "\n",
    "from matplotlib import colors\n",
    "from sklearn.metrics import confusion_matrix\n",
    "\n",
    "sns.set(context='notebook', rc={'figure.figsize':(10, 8)})\n",
    "\n",
    "def plot_confusion_matrix(Y_true, Y_pred):\n",
    "  cm = confusion_matrix(np.argmax(Y_true.values, axis=1), np.argmax(Y_pred, axis=1))\n",
    "  cmdf = pd.DataFrame(cm, columns=Y_true.columns, index=Y_true.columns)\n",
    "  # also consider trying cmap='YlGnBu'\n",
    "  ax = sns.heatmap(data=cmdf, annot=True, fmt='d', square=True, norm=colors.PowerNorm(gamma=1/2.5))\n",
    "  ax.set_xlabel('True label')\n",
    "  ax.set_ylabel('Predicted label')"
   ]
  },
  {
   "cell_type": "code",
   "execution_count": null,
   "metadata": {},
   "outputs": [],
   "source": [
    "FILE = '../../finalproject/wildfires-shuffled.parquet'\n",
    "(X_train, Y_train), (X_test, Y_test) = preprocess.load_dataset(FILE)"
   ]
  },
  {
   "cell_type": "markdown",
   "metadata": {},
   "source": [
    "## Confusion matrices"
   ]
  },
  {
   "cell_type": "code",
   "execution_count": null,
   "metadata": {},
   "outputs": [],
   "source": [
    "model = keras.models.load_model('../models/mlp-4x512-with-bnorm.h5')"
   ]
  },
  {
   "cell_type": "code",
   "execution_count": null,
   "metadata": {},
   "outputs": [],
   "source": [
    "Y_pred = model.predict(X_test)"
   ]
  },
  {
   "cell_type": "code",
   "execution_count": null,
   "metadata": {},
   "outputs": [],
   "source": [
    "plot_confusion_matrix(Y_test, Y_pred)"
   ]
  }
 ],
 "metadata": {
  "kernelspec": {
   "display_name": "Python 3",
   "language": "python",
   "name": "python3"
  },
  "language_info": {
   "codemirror_mode": {
    "name": "ipython",
    "version": 3
   },
   "file_extension": ".py",
   "mimetype": "text/x-python",
   "name": "python",
   "nbconvert_exporter": "python",
   "pygments_lexer": "ipython3",
   "version": "3.6.8"
  }
 },
 "nbformat": 4,
 "nbformat_minor": 2
}
