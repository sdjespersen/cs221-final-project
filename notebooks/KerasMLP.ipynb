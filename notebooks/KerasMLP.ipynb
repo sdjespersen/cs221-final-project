{
 "cells": [
  {
   "cell_type": "markdown",
   "metadata": {},
   "source": [
    "# Keras MLP"
   ]
  },
  {
   "cell_type": "code",
   "execution_count": null,
   "metadata": {},
   "outputs": [],
   "source": [
    "import keras\n",
    "from keras.models import Sequential\n",
    "from keras.layers import Dense, Dropout\n",
    "from keras import metrics\n",
    "import matplotlib.pyplot as plt\n",
    "import numpy as np\n",
    "import pandas as pd\n",
    "import seaborn as sns\n",
    "import preprocess\n",
    "import umap\n",
    "\n",
    "from confusion import confusion_matrix_dataframe, plot_confusion_matrix"
   ]
  },
  {
   "cell_type": "markdown",
   "metadata": {},
   "source": [
    "## Load data"
   ]
  },
  {
   "cell_type": "code",
   "execution_count": null,
   "metadata": {},
   "outputs": [],
   "source": [
    "# replace FILE with the appropriate location of the full dataset\n",
    "FILE = '../../finalproject/wildfires-shuffled.parquet'\n",
    "(X_train, Y_train), (X_test, Y_test) = preprocess.load_dataset(FILE)"
   ]
  },
  {
   "cell_type": "markdown",
   "metadata": {},
   "source": [
    "## Train MLP"
   ]
  },
  {
   "cell_type": "code",
   "execution_count": null,
   "metadata": {},
   "outputs": [],
   "source": [
    "model = Sequential([\n",
    "    Dense(512, activation='relu', input_dim=len(X_train.columns)),\n",
    "    Dense(512, activation='relu'),\n",
    "    BatchNormalization(axis=1),\n",
    "    Dense(512, activation='relu'),\n",
    "    Dense(512, activation='relu'),\n",
    "    Dense(Y_train.shape[1], activation='softmax'),\n",
    "])\n",
    "\n",
    "model.compile(\n",
    "    optimizer='adam',\n",
    "    loss='categorical_crossentropy',\n",
    "    metrics=['accuracy'])"
   ]
  },
  {
   "cell_type": "code",
   "execution_count": null,
   "metadata": {},
   "outputs": [],
   "source": [
    "history = model.fit(X_train.values, Y_train.values, epochs=5, batch_size=256, validation_split=0.222)"
   ]
  },
  {
   "cell_type": "markdown",
   "metadata": {},
   "source": [
    "## Predict and report results"
   ]
  },
  {
   "cell_type": "code",
   "execution_count": null,
   "metadata": {},
   "outputs": [],
   "source": [
    "model = keras.models.load_model('../models/mlp-4x512-with-bnorm.h5')"
   ]
  },
  {
   "cell_type": "code",
   "execution_count": null,
   "metadata": {},
   "outputs": [],
   "source": [
    "Y_pred = model.predict(X_test)"
   ]
  },
  {
   "cell_type": "code",
   "execution_count": null,
   "metadata": {},
   "outputs": [],
   "source": [
    "sns.set(rc={'figure.figsize': (10, 8)})\n",
    "ax = plot_confusion_matrix(confusion_matrix_dataframe(Y_test, Y_pred))\n",
    "# ax.figure.savefig('mlp_confusion_mtx.pdf', bbox_inches='tight')"
   ]
  },
  {
   "cell_type": "markdown",
   "metadata": {},
   "source": [
    "## UMAP\n",
    "\n",
    "Load the model from file here."
   ]
  },
  {
   "cell_type": "code",
   "execution_count": null,
   "metadata": {},
   "outputs": [],
   "source": [
    "model = keras.models.load_model('../models/mlp-4x512-with-bnorm.h5')"
   ]
  },
  {
   "cell_type": "code",
   "execution_count": null,
   "metadata": {},
   "outputs": [],
   "source": [
    "# In case umap-learn is not installed on this system\n",
    "# !sudo pip3 install umap-learn"
   ]
  },
  {
   "cell_type": "code",
   "execution_count": null,
   "metadata": {},
   "outputs": [],
   "source": [
    "UMAP_COLS = \"\"\"\n",
    "fire_size\n",
    "fire_year\n",
    "discovery_date\n",
    "burn_time\n",
    "burn_time_notna\n",
    "latitude\n",
    "longitude\n",
    "\"\"\".strip().split(\"\\n\")\n",
    "\n",
    "Xsamp = X_test.sample(25000)\n",
    "Ysamp = Y_test.loc[Xsamp.index]\n",
    "Xsamp = Xsamp.filter(items=UMAP_COLS)"
   ]
  },
  {
   "cell_type": "markdown",
   "metadata": {},
   "source": [
    "### On raw data"
   ]
  },
  {
   "cell_type": "code",
   "execution_count": null,
   "metadata": {},
   "outputs": [],
   "source": [
    "embedding = umap.UMAP().fit_transform(Xsamp)"
   ]
  },
  {
   "cell_type": "code",
   "execution_count": null,
   "metadata": {},
   "outputs": [],
   "source": [
    "plt.figure(figsize=(13,10))\n",
    "sns.set(style='white', context='paper')\n",
    "plt.scatter(embedding[:, 0], embedding[:, 1], c=np.argmax(Ysamp.values, axis=1), cmap='Spectral_r', s=3)\n",
    "plt.gca().set_aspect('equal', 'datalim')\n",
    "cbar = plt.colorbar(boundaries=np.arange(12)-0.5)\n",
    "cbar.set_ticks(np.arange(11))\n",
    "cbar.set_ticklabels(Ysamp.columns)\n",
    "plt.tight_layout()"
   ]
  },
  {
   "cell_type": "markdown",
   "metadata": {},
   "source": [
    "### On last layer output"
   ]
  },
  {
   "cell_type": "code",
   "execution_count": null,
   "metadata": {},
   "outputs": [],
   "source": [
    "sans_softmax = Sequential(model.layers[:-2])\n",
    "Ysamp_pred_lastlayer = sans_softmax.predict(X_test.loc[Xsamp.index])"
   ]
  },
  {
   "cell_type": "code",
   "execution_count": null,
   "metadata": {},
   "outputs": [],
   "source": [
    "other_embedding = umap.UMAP().fit_transform(Ysamp_pred_lastlayer)"
   ]
  },
  {
   "cell_type": "code",
   "execution_count": null,
   "metadata": {},
   "outputs": [],
   "source": [
    "plt.figure(figsize=(13,10))\n",
    "sns.set(style='white')\n",
    "plt.scatter(other_embedding[:, 0], other_embedding[:, 1], c=np.argmax(Ysamp.values, axis=1), cmap='Spectral_r', s=3)\n",
    "plt.gca().set_aspect('equal', 'datalim')\n",
    "cbar = plt.colorbar(boundaries=np.arange(12)-0.5)\n",
    "cbar.set_ticks(np.arange(11))\n",
    "cbar.set_ticklabels(Ysamp.columns)\n",
    "plt.tight_layout()"
   ]
  }
 ],
 "metadata": {
  "kernelspec": {
   "display_name": "Python 3",
   "language": "python",
   "name": "python3"
  },
  "language_info": {
   "codemirror_mode": {
    "name": "ipython",
    "version": 3
   },
   "file_extension": ".py",
   "mimetype": "text/x-python",
   "name": "python",
   "nbconvert_exporter": "python",
   "pygments_lexer": "ipython3",
   "version": "3.6.8"
  }
 },
 "nbformat": 4,
 "nbformat_minor": 2
}
